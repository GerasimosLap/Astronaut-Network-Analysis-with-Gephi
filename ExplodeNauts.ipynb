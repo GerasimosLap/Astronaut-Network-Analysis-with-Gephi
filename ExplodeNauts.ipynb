{
 "cells": [
  {
   "cell_type": "code",
   "execution_count": 15,
   "metadata": {},
   "outputs": [],
   "source": [
    "import pandas as pd\n",
    "\n",
    "import numpy as np\n",
    "\n",
    "pd.set_option('display.max_columns', None)"
   ]
  },
  {
   "cell_type": "code",
   "execution_count": 16,
   "metadata": {},
   "outputs": [],
   "source": [
    "astro = pd.read_csv('astronauts.csv')\n",
    "astronodes = astro.drop_duplicates(subset=['number','name']).copy()\n",
    "astronodes = astronodes[['number','name','sex','nationality','occupation','year_of_birth','military_civilian','year_of_selection','total_number_of_missions']]\n",
    "astronodes.rename(columns={'number':'Id'}, inplace=True)\n",
    "astronodes.rename(columns={'name':'Label'}, inplace=True)\n",
    "astronodes.to_csv('astronodes.csv', encoding='utf-8')"
   ]
  },
  {
   "cell_type": "code",
   "execution_count": 17,
   "metadata": {},
   "outputs": [],
   "source": [
    "astroedges = astro.groupby('mission_title')['number'].apply(list)\n",
    "astroedges = astroedges.to_frame().reset_index()\n",
    "astroedges.rename(columns={'number':'Target'}, inplace=True)"
   ]
  },
  {
   "cell_type": "code",
   "execution_count": 18,
   "metadata": {},
   "outputs": [],
   "source": [
    "astroedges = astroedges.explode('Target')"
   ]
  },
  {
   "cell_type": "code",
   "execution_count": 19,
   "metadata": {},
   "outputs": [],
   "source": [
    "astroedges = pd.merge(astro,\n",
    "               astroedges, \n",
    "               on='mission_title', \n",
    "               how='inner')"
   ]
  },
  {
   "cell_type": "code",
   "execution_count": 20,
   "metadata": {},
   "outputs": [],
   "source": [
    "astroedges.rename(columns={'number':'Source'}, inplace=True)\n",
    "astroedges['Type'] = 'Undirected'\n",
    "astroedges['Weight'] = '1'\n",
    "astroedges = astroedges.loc[astroedges['Source']!=astroedges['Target']]\n",
    "astroedges = astroedges[['Source','Target','year_of_mission','mission_title','ascend_shuttle','in_orbit','descend_shuttle']]"
   ]
  },
  {
   "cell_type": "code",
   "execution_count": 14,
   "metadata": {},
   "outputs": [],
   "source": [
    "astroedges.to_csv('astroedges.csv', encoding='utf-8')"
   ]
  }
 ],
 "metadata": {
  "kernelspec": {
   "display_name": "Python 3",
   "language": "python",
   "name": "python3"
  },
  "language_info": {
   "codemirror_mode": {
    "name": "ipython",
    "version": 3
   },
   "file_extension": ".py",
   "mimetype": "text/x-python",
   "name": "python",
   "nbconvert_exporter": "python",
   "pygments_lexer": "ipython3",
   "version": "3.8.5"
  }
 },
 "nbformat": 4,
 "nbformat_minor": 4
}
